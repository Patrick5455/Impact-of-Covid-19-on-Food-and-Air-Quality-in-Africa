{
 "cells": [
  {
   "cell_type": "markdown",
   "metadata": {},
   "source": [
    "## Import necessary libraries"
   ]
  },
  {
   "cell_type": "code",
   "execution_count": 1,
   "metadata": {},
   "outputs": [],
   "source": [
    "import sys\n",
    "import string\n",
    "import simplejson\n",
    "from twython import Twython\n",
    "import pandas as pd \n",
    "import os\n",
    "import pandas as pd\n",
    "import seaborn as sns\n",
    "from scipy.stats import norm\n",
    "import math as mt\n",
    "import numpy as np\n",
    "import matplotlib.pyplot as plt\n",
    "from scipy.stats import binom\n",
    "import warnings\n",
    "import itertools\n",
    "import datetime\n",
    "import numpy as np\n",
    "import matplotlib.pyplot as plt\n",
    "import tweepy \n",
    "import demjson"
   ]
  },
  {
   "cell_type": "markdown",
   "metadata": {},
   "source": [
    "## Read file to data frame"
   ]
  },
  {
   "cell_type": "code",
   "execution_count": 3,
   "metadata": {},
   "outputs": [
    {
     "name": "stdout",
     "output_type": "stream",
     "text": [
      "True\n"
     ]
    }
   ],
   "source": [
    "warnings.filterwarnings('ignore')\n",
    "path_store='totalDatanew.csv'\n",
    "\n",
    "isFile = os.path.isfile(path_store) \n",
    "print(isFile)                           \n",
    "\n",
    "totalDatanew = pd.read_csv(path_store)"
   ]
  },
  {
   "cell_type": "code",
   "execution_count": null,
   "metadata": {},
   "outputs": [],
   "source": [
    "totalDatanew.sample(2)"
   ]
  },
  {
   "cell_type": "markdown",
   "metadata": {},
   "source": [
    "## Create api connection using Tweepy"
   ]
  },
  {
   "cell_type": "code",
   "execution_count": null,
   "metadata": {},
   "outputs": [],
   "source": [
    "# assign the values accordingly \n",
    "consumer_key = \"S6MHZsqQ5RMotPbH6OoleRtNs\" \n",
    "consumer_secret = \"Y9p9nbKokOVdY2PkZw7LcM6Qnw4aV6Pof0jYDL0KI3N8khtgmK\" \n",
    "access_token = \"1285289217615187970-seNop5XD4oiy1EmLUBZJSRlirfRAYm\" \n",
    "access_token_secret = \"I5W1LGD2t9EWygeF2DAS8Jl0XJ7lURtNoGdvGLUwS5lBu\" \n",
    "  \n",
    "# authorization of consumer key and consumer secret \n",
    "auth = tweepy.OAuthHandler(consumer_key, consumer_secret) \n",
    "  \n",
    "# set access to user's access key and access secret  \n",
    "auth.set_access_token(access_token, access_token_secret) \n",
    "  \n",
    "# calling the api  \n",
    "api = tweepy.API(auth) "
   ]
  },
  {
   "cell_type": "markdown",
   "metadata": {},
   "source": [
    "## Define function that fetchs User data from Status ID"
   ]
  },
  {
   "cell_type": "code",
   "execution_count": null,
   "metadata": {},
   "outputs": [],
   "source": [
    "def add_user_name(status_id,feature):\n",
    "    status_id=[status_id]\n",
    "    list_of_tw_status=api.statuses_lookup(status_id, tweet_mode= \"extended\")\n",
    "    for status in list_of_tw_status:\n",
    "     user_id=status.user.id\n",
    "    \n",
    "    #users = api.lookup_users(x)\n",
    "    user_id=[user_id]\n",
    "    \n",
    "    \n",
    "    users = api.lookup_users(user_id)\n",
    "    \n",
    "    print (users[0]._json[feature])\n",
    "    return users[0]._json[feature]\n",
    "    \n",
    "\n"
   ]
  },
  {
   "cell_type": "markdown",
   "metadata": {},
   "source": [
    "## Call the above Function for any desired Feature"
   ]
  },
  {
   "cell_type": "code",
   "execution_count": null,
   "metadata": {},
   "outputs": [],
   "source": [
    "totalDatanew['user_name'] = totalDatanew['id'].apply(add_user_name,feature='name')\n",
    "print('Finished UserName=======================================================================================================')\n",
    "totalDatanew['location'] = totalDatanew['id'].apply(add_user_name,feature='location')\n",
    "print('Finished location=======================================================================================================')\n",
    "totalDatanew['description'] = totalDatanew['id'].apply(add_user_name,feature='description')\n",
    "print('Finished description=======================================================================================================')\n",
    "totalDatanew['followers_count'] = totalDatanew['id'].apply(add_user_name,feature='followers_count')\n",
    "print('Finished followers_count=======================================================================================================')\n",
    "totalDatanew['friends_count'] = totalDatanew['id'].apply(add_user_name,feature='friends_count')\n",
    "print('Finished friends_count=======================================================================================================')\n",
    "totalDatanew['followers_count'] = totalDatanew['id'].apply(add_user_name,feature='followers_count')\n",
    "print('Finished followers_count=======================================================================================================')\n",
    "totalDatanew['listed_count'] = totalDatanew['id'].apply(add_user_name,feature='listed_count')\n",
    "print('Finished listed_count=======================================================================================================')\n",
    "totalDatanew['statuses_count'] = totalDatanew['id'].apply(add_user_name,feature='statuses_count')\n",
    "print('Finished statuses_count=======================================================================================================')\n",
    "totalDatanew['favourites_count'] = totalDatanew['id'].apply(add_user_name,feature='favourites_count')\n",
    "print('Finished favourites_count=======================================================================================================')\n",
    "totalDatanew['verified'] = totalDatanew['id'].apply(add_user_name,feature='verified')\n",
    "print('Finished verified=======================================================================================================')\n",
    "  \n",
    "    \n",
    "#totalDatanew.to_csv('cleanairusers_name.csv')"
   ]
  },
  {
   "cell_type": "markdown",
   "metadata": {},
   "source": [
    "## Save file as CSV"
   ]
  },
  {
   "cell_type": "code",
   "execution_count": null,
   "metadata": {},
   "outputs": [],
   "source": [
    "totalDatanew.to_csv(\"totalDatanew_users_detail.csv\")"
   ]
  },
  {
   "cell_type": "code",
   "execution_count": null,
   "metadata": {},
   "outputs": [],
   "source": []
  }
 ],
 "metadata": {
  "kernelspec": {
   "display_name": "Python 3",
   "language": "python",
   "name": "python3"
  },
  "language_info": {
   "codemirror_mode": {
    "name": "ipython",
    "version": 3
   },
   "file_extension": ".py",
   "mimetype": "text/x-python",
   "name": "python",
   "nbconvert_exporter": "python",
   "pygments_lexer": "ipython3",
   "version": "3.7.6"
  }
 },
 "nbformat": 4,
 "nbformat_minor": 4
}
