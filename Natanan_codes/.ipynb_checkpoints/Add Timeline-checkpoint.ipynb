{
 "cells": [
  {
   "cell_type": "markdown",
   "metadata": {},
   "source": [
    "## Import necessary libraries"
   ]
  },
  {
   "cell_type": "code",
   "execution_count": 1,
   "metadata": {},
   "outputs": [],
   "source": [
    "import sys\n",
    "import string\n",
    "import simplejson\n",
    "from twython import Twython\n",
    "import pandas as pd \n",
    "import os\n",
    "import pandas as pd\n",
    "import seaborn as sns\n",
    "from scipy.stats import norm\n",
    "import math as mt\n",
    "import numpy as np\n",
    "import matplotlib.pyplot as plt\n",
    "from scipy.stats import binom\n",
    "import warnings\n",
    "import itertools\n",
    "import datetime\n",
    "import numpy as np\n",
    "import matplotlib.pyplot as plt\n",
    "import tweepy \n",
    "import demjson\n",
    "import datetime\n",
    "import pytz\n"
   ]
  },
  {
   "cell_type": "markdown",
   "metadata": {},
   "source": [
    "### ============================================================================================\n",
    "### Make sure to run Add User Data Notebook before running this one.\n",
    "### ============================================================================================"
   ]
  },
  {
   "cell_type": "markdown",
   "metadata": {},
   "source": [
    "## Read file to data frame"
   ]
  },
  {
   "cell_type": "code",
   "execution_count": 2,
   "metadata": {},
   "outputs": [
    {
     "name": "stdout",
     "output_type": "stream",
     "text": [
      "True\n"
     ]
    }
   ],
   "source": [
    "warnings.filterwarnings('ignore')\n",
    "path_store='totalDatanew_users_detail.csv'\n",
    "\n",
    "isFile = os.path.isfile(path_store) \n",
    "print(isFile)                           \n",
    "\n",
    "totalDatanew = pd.read_csv(path_store)"
   ]
  },
  {
   "cell_type": "markdown",
   "metadata": {},
   "source": [
    "### Drop the first column as it shows only index."
   ]
  },
  {
   "cell_type": "code",
   "execution_count": 3,
   "metadata": {},
   "outputs": [
    {
     "data": {
      "text/html": [
       "<div>\n",
       "<style scoped>\n",
       "    .dataframe tbody tr th:only-of-type {\n",
       "        vertical-align: middle;\n",
       "    }\n",
       "\n",
       "    .dataframe tbody tr th {\n",
       "        vertical-align: top;\n",
       "    }\n",
       "\n",
       "    .dataframe thead th {\n",
       "        text-align: right;\n",
       "    }\n",
       "</style>\n",
       "<table border=\"1\" class=\"dataframe\">\n",
       "  <thead>\n",
       "    <tr style=\"text-align: right;\">\n",
       "      <th></th>\n",
       "      <th>id</th>\n",
       "      <th>screen_name</th>\n",
       "      <th>created_at</th>\n",
       "      <th>original_text</th>\n",
       "      <th>clean_text</th>\n",
       "      <th>polarity</th>\n",
       "      <th>subjectivity</th>\n",
       "      <th>favorite_count</th>\n",
       "      <th>retweet_count</th>\n",
       "      <th>possibly_sensitive</th>\n",
       "      <th>...</th>\n",
       "      <th>place</th>\n",
       "      <th>user_name</th>\n",
       "      <th>location</th>\n",
       "      <th>description</th>\n",
       "      <th>followers_count</th>\n",
       "      <th>friends_count</th>\n",
       "      <th>listed_count</th>\n",
       "      <th>statuses_count</th>\n",
       "      <th>favourites_count</th>\n",
       "      <th>verified</th>\n",
       "    </tr>\n",
       "  </thead>\n",
       "  <tbody>\n",
       "    <tr>\n",
       "      <th>113</th>\n",
       "      <td>1281632895736647680</td>\n",
       "      <td>saltmaamz</td>\n",
       "      <td>Fri Jul 10 16:54:28 +0000 2020</td>\n",
       "      <td>maybe , just maybe , it’s time I forgave him. ...</td>\n",
       "      <td>maybe maybe time I forgave sake sake Allah mak...</td>\n",
       "      <td>0.000000</td>\n",
       "      <td>0.000</td>\n",
       "      <td>6.0</td>\n",
       "      <td>1.0</td>\n",
       "      <td>NaN</td>\n",
       "      <td>...</td>\n",
       "      <td>NaN</td>\n",
       "      <td>aqilah 🤍</td>\n",
       "      <td>cpt / sa 🇿🇦</td>\n",
       "      <td>21 years of constantly being taken for a poes ...</td>\n",
       "      <td>3798</td>\n",
       "      <td>367</td>\n",
       "      <td>3</td>\n",
       "      <td>43965</td>\n",
       "      <td>3633</td>\n",
       "      <td>False</td>\n",
       "    </tr>\n",
       "    <tr>\n",
       "      <th>60</th>\n",
       "      <td>1194624552308883457</td>\n",
       "      <td>m_obrien68</td>\n",
       "      <td>Wed Nov 13 14:34:22 +0000 2019</td>\n",
       "      <td>This is great! #endCoal!! African Development ...</td>\n",
       "      <td>This great African Development Bank decides fu...</td>\n",
       "      <td>0.400000</td>\n",
       "      <td>0.375</td>\n",
       "      <td>9.0</td>\n",
       "      <td>2.0</td>\n",
       "      <td>False</td>\n",
       "      <td>...</td>\n",
       "      <td>Nairobi, Kenya</td>\n",
       "      <td>Michael O'Brien-Onyeka</td>\n",
       "      <td>Nairobi, Kenya</td>\n",
       "      <td>Senior Vice President, Africa Field Division a...</td>\n",
       "      <td>935</td>\n",
       "      <td>1720</td>\n",
       "      <td>22</td>\n",
       "      <td>2803</td>\n",
       "      <td>866</td>\n",
       "      <td>False</td>\n",
       "    </tr>\n",
       "    <tr>\n",
       "      <th>242</th>\n",
       "      <td>1311252624839241728</td>\n",
       "      <td>MChagara</td>\n",
       "      <td>Wed Sep 30 10:32:42 +0000 2020</td>\n",
       "      <td>@rtumusiime89 @BrianNakibinge @newvisionwire @...</td>\n",
       "      <td>Exactly ... But keep retracting statement time...</td>\n",
       "      <td>0.375000</td>\n",
       "      <td>0.375</td>\n",
       "      <td>0.0</td>\n",
       "      <td>0.0</td>\n",
       "      <td>NaN</td>\n",
       "      <td>...</td>\n",
       "      <td>NaN</td>\n",
       "      <td>Mercy Chagara</td>\n",
       "      <td>Kampala,Uganda</td>\n",
       "      <td>Do what makes you and God ONLY happy.\\nproud V...</td>\n",
       "      <td>1357</td>\n",
       "      <td>1588</td>\n",
       "      <td>10</td>\n",
       "      <td>17484</td>\n",
       "      <td>15643</td>\n",
       "      <td>False</td>\n",
       "    </tr>\n",
       "    <tr>\n",
       "      <th>227</th>\n",
       "      <td>1309250076070477824</td>\n",
       "      <td>margotoge</td>\n",
       "      <td>Thu Sep 24 21:55:17 +0000 2020</td>\n",
       "      <td>Looking forward to speaking on an online, half...</td>\n",
       "      <td>Looking forward speaking online half-day Sympo...</td>\n",
       "      <td>0.000000</td>\n",
       "      <td>0.000</td>\n",
       "      <td>3.0</td>\n",
       "      <td>0.0</td>\n",
       "      <td>NaN</td>\n",
       "      <td>...</td>\n",
       "      <td>NaN</td>\n",
       "      <td>Margo T. Oge</td>\n",
       "      <td>NaN</td>\n",
       "      <td>Author of book https://t.co/4KEKww3Fyx, former...</td>\n",
       "      <td>676</td>\n",
       "      <td>93</td>\n",
       "      <td>37</td>\n",
       "      <td>1807</td>\n",
       "      <td>345</td>\n",
       "      <td>False</td>\n",
       "    </tr>\n",
       "    <tr>\n",
       "      <th>59</th>\n",
       "      <td>1204709612378820609</td>\n",
       "      <td>Juliet_Kabera</td>\n",
       "      <td>Wed Dec 11 10:28:48 +0000 2019</td>\n",
       "      <td>Congrats @JoshWhaleNZ for the successful launc...</td>\n",
       "      <td>Congrats successful launch KM traveled e-motor...</td>\n",
       "      <td>0.391667</td>\n",
       "      <td>0.525</td>\n",
       "      <td>35.0</td>\n",
       "      <td>12.0</td>\n",
       "      <td>False</td>\n",
       "      <td>...</td>\n",
       "      <td>NaN</td>\n",
       "      <td>Juliet Kabera</td>\n",
       "      <td>NaN</td>\n",
       "      <td>Director General, Rwanda Environment Managemen...</td>\n",
       "      <td>1985</td>\n",
       "      <td>205</td>\n",
       "      <td>10</td>\n",
       "      <td>339</td>\n",
       "      <td>230</td>\n",
       "      <td>False</td>\n",
       "    </tr>\n",
       "  </tbody>\n",
       "</table>\n",
       "<p>5 rows × 22 columns</p>\n",
       "</div>"
      ],
      "text/plain": [
       "                      id    screen_name                      created_at  \\\n",
       "113  1281632895736647680      saltmaamz  Fri Jul 10 16:54:28 +0000 2020   \n",
       "60   1194624552308883457     m_obrien68  Wed Nov 13 14:34:22 +0000 2019   \n",
       "242  1311252624839241728       MChagara  Wed Sep 30 10:32:42 +0000 2020   \n",
       "227  1309250076070477824      margotoge  Thu Sep 24 21:55:17 +0000 2020   \n",
       "59   1204709612378820609  Juliet_Kabera  Wed Dec 11 10:28:48 +0000 2019   \n",
       "\n",
       "                                         original_text  \\\n",
       "113  maybe , just maybe , it’s time I forgave him. ...   \n",
       "60   This is great! #endCoal!! African Development ...   \n",
       "242  @rtumusiime89 @BrianNakibinge @newvisionwire @...   \n",
       "227  Looking forward to speaking on an online, half...   \n",
       "59   Congrats @JoshWhaleNZ for the successful launc...   \n",
       "\n",
       "                                            clean_text  polarity  \\\n",
       "113  maybe maybe time I forgave sake sake Allah mak...  0.000000   \n",
       "60   This great African Development Bank decides fu...  0.400000   \n",
       "242  Exactly ... But keep retracting statement time...  0.375000   \n",
       "227  Looking forward speaking online half-day Sympo...  0.000000   \n",
       "59   Congrats successful launch KM traveled e-motor...  0.391667   \n",
       "\n",
       "     subjectivity  favorite_count  retweet_count possibly_sensitive  ...  \\\n",
       "113         0.000             6.0            1.0                NaN  ...   \n",
       "60          0.375             9.0            2.0              False  ...   \n",
       "242         0.375             0.0            0.0                NaN  ...   \n",
       "227         0.000             3.0            0.0                NaN  ...   \n",
       "59          0.525            35.0           12.0              False  ...   \n",
       "\n",
       "              place               user_name        location  \\\n",
       "113             NaN                aqilah 🤍     cpt / sa 🇿🇦   \n",
       "60   Nairobi, Kenya  Michael O'Brien-Onyeka  Nairobi, Kenya   \n",
       "242             NaN           Mercy Chagara  Kampala,Uganda   \n",
       "227             NaN            Margo T. Oge             NaN   \n",
       "59              NaN           Juliet Kabera             NaN   \n",
       "\n",
       "                                           description followers_count  \\\n",
       "113  21 years of constantly being taken for a poes ...            3798   \n",
       "60   Senior Vice President, Africa Field Division a...             935   \n",
       "242  Do what makes you and God ONLY happy.\\nproud V...            1357   \n",
       "227  Author of book https://t.co/4KEKww3Fyx, former...             676   \n",
       "59   Director General, Rwanda Environment Managemen...            1985   \n",
       "\n",
       "    friends_count  listed_count  statuses_count  favourites_count  verified  \n",
       "113           367             3           43965              3633     False  \n",
       "60           1720            22            2803               866     False  \n",
       "242          1588            10           17484             15643     False  \n",
       "227            93            37            1807               345     False  \n",
       "59            205            10             339               230     False  \n",
       "\n",
       "[5 rows x 22 columns]"
      ]
     },
     "execution_count": 3,
     "metadata": {},
     "output_type": "execute_result"
    }
   ],
   "source": [
    "totalDatanew=totalDatanew.drop(totalDatanew.columns[0], axis=1)\n",
    "totalDatanew.sample(5)"
   ]
  },
  {
   "cell_type": "markdown",
   "metadata": {},
   "source": [
    "### Change String type to date type."
   ]
  },
  {
   "cell_type": "code",
   "execution_count": 4,
   "metadata": {},
   "outputs": [],
   "source": [
    "totalDatanew['created_at']= pd.to_datetime(totalDatanew['created_at'])"
   ]
  },
  {
   "cell_type": "markdown",
   "metadata": {},
   "source": [
    "## Define function that  changes data type."
   ]
  },
  {
   "cell_type": "code",
   "execution_count": 5,
   "metadata": {},
   "outputs": [],
   "source": [
    "def rey_date(x):\n",
    "   return x.date"
   ]
  },
  {
   "cell_type": "markdown",
   "metadata": {},
   "source": [
    "## Define function that adds timeline."
   ]
  },
  {
   "cell_type": "markdown",
   "metadata": {},
   "source": [
    "* Before Lockdown===1/11/2019 - 31/03/2020\n",
    "* During Lockdown===1/04/2020 - 31/07/2020\n",
    "* After Lockdown ===1/08/2020 - Present"
   ]
  },
  {
   "cell_type": "code",
   "execution_count": 6,
   "metadata": {},
   "outputs": [],
   "source": [
    "def timeline(date):\n",
    "    if(date < (datetime.date(2020, 4, 1) )):\n",
    "        return \"pre\"\n",
    "    if(((date <= datetime.date(2020, 8, 1)) & (date >= datetime.date(2020, 4, 1)))  ):\n",
    "        return \"during\"\n",
    "    if(date > datetime.date(2020, 8, 1) ):\n",
    "        return \"post\""
   ]
  },
  {
   "cell_type": "markdown",
   "metadata": {},
   "source": [
    "## Apply functions to dataframe."
   ]
  },
  {
   "cell_type": "code",
   "execution_count": 7,
   "metadata": {},
   "outputs": [],
   "source": [
    "totalDatanew['timeline'] = totalDatanew['created_at'].apply(rey_date)"
   ]
  },
  {
   "cell_type": "code",
   "execution_count": 8,
   "metadata": {},
   "outputs": [],
   "source": [
    "totalDatanew['timeline'] = totalDatanew['timeline'].apply(timeline)"
   ]
  },
  {
   "cell_type": "code",
   "execution_count": 9,
   "metadata": {},
   "outputs": [
    {
     "data": {
      "text/html": [
       "<div>\n",
       "<style scoped>\n",
       "    .dataframe tbody tr th:only-of-type {\n",
       "        vertical-align: middle;\n",
       "    }\n",
       "\n",
       "    .dataframe tbody tr th {\n",
       "        vertical-align: top;\n",
       "    }\n",
       "\n",
       "    .dataframe thead th {\n",
       "        text-align: right;\n",
       "    }\n",
       "</style>\n",
       "<table border=\"1\" class=\"dataframe\">\n",
       "  <thead>\n",
       "    <tr style=\"text-align: right;\">\n",
       "      <th></th>\n",
       "      <th>id</th>\n",
       "      <th>screen_name</th>\n",
       "      <th>created_at</th>\n",
       "      <th>original_text</th>\n",
       "      <th>clean_text</th>\n",
       "      <th>polarity</th>\n",
       "      <th>subjectivity</th>\n",
       "      <th>favorite_count</th>\n",
       "      <th>retweet_count</th>\n",
       "      <th>possibly_sensitive</th>\n",
       "      <th>...</th>\n",
       "      <th>user_name</th>\n",
       "      <th>location</th>\n",
       "      <th>description</th>\n",
       "      <th>followers_count</th>\n",
       "      <th>friends_count</th>\n",
       "      <th>listed_count</th>\n",
       "      <th>statuses_count</th>\n",
       "      <th>favourites_count</th>\n",
       "      <th>verified</th>\n",
       "      <th>timeline</th>\n",
       "    </tr>\n",
       "  </thead>\n",
       "  <tbody>\n",
       "    <tr>\n",
       "      <th>54</th>\n",
       "      <td>1228411139744243713</td>\n",
       "      <td>eci_africa</td>\n",
       "      <td>2020-02-14 20:10:13+00:00</td>\n",
       "      <td>Now is the time to step up local, national, re...</td>\n",
       "      <td>Now time step local national regional global e...</td>\n",
       "      <td>-0.1</td>\n",
       "      <td>0.133333</td>\n",
       "      <td>0.0</td>\n",
       "      <td>0.0</td>\n",
       "      <td>False</td>\n",
       "      <td>...</td>\n",
       "      <td>Environmental Compliance Institute</td>\n",
       "      <td>Nairobi, Kenya</td>\n",
       "      <td>Influencing #policy, environmental #governance...</td>\n",
       "      <td>301</td>\n",
       "      <td>580</td>\n",
       "      <td>1</td>\n",
       "      <td>1036</td>\n",
       "      <td>1104</td>\n",
       "      <td>False</td>\n",
       "      <td>pre</td>\n",
       "    </tr>\n",
       "    <tr>\n",
       "      <th>105</th>\n",
       "      <td>1288515815806054402</td>\n",
       "      <td>saltmaamz</td>\n",
       "      <td>2020-07-29 16:44:44+00:00</td>\n",
       "      <td>@bobsyouruncleCP lmao , ain’t no thang but a c...</td>\n",
       "      <td>lmao aint thang chicken wang</td>\n",
       "      <td>0.0</td>\n",
       "      <td>0.975000</td>\n",
       "      <td>1.0</td>\n",
       "      <td>0.0</td>\n",
       "      <td>NaN</td>\n",
       "      <td>...</td>\n",
       "      <td>aqilah 🤍</td>\n",
       "      <td>cpt / sa 🇿🇦</td>\n",
       "      <td>21 years of constantly being taken for a poes ...</td>\n",
       "      <td>3798</td>\n",
       "      <td>367</td>\n",
       "      <td>3</td>\n",
       "      <td>43965</td>\n",
       "      <td>3633</td>\n",
       "      <td>False</td>\n",
       "      <td>during</td>\n",
       "    </tr>\n",
       "    <tr>\n",
       "      <th>240</th>\n",
       "      <td>1310512309710868480</td>\n",
       "      <td>MaserekaDavid</td>\n",
       "      <td>2020-09-28 09:30:57+00:00</td>\n",
       "      <td>@MChagara And that's what scares me the most @...</td>\n",
       "      <td>And 's scares</td>\n",
       "      <td>0.0</td>\n",
       "      <td>0.000000</td>\n",
       "      <td>1.0</td>\n",
       "      <td>1.0</td>\n",
       "      <td>NaN</td>\n",
       "      <td>...</td>\n",
       "      <td>David Masereka</td>\n",
       "      <td>Kampala</td>\n",
       "      <td>Loves nature and protecting it, better living ...</td>\n",
       "      <td>74</td>\n",
       "      <td>199</td>\n",
       "      <td>0</td>\n",
       "      <td>585</td>\n",
       "      <td>3661</td>\n",
       "      <td>False</td>\n",
       "      <td>post</td>\n",
       "    </tr>\n",
       "  </tbody>\n",
       "</table>\n",
       "<p>3 rows × 23 columns</p>\n",
       "</div>"
      ],
      "text/plain": [
       "                      id    screen_name                created_at  \\\n",
       "54   1228411139744243713     eci_africa 2020-02-14 20:10:13+00:00   \n",
       "105  1288515815806054402      saltmaamz 2020-07-29 16:44:44+00:00   \n",
       "240  1310512309710868480  MaserekaDavid 2020-09-28 09:30:57+00:00   \n",
       "\n",
       "                                         original_text  \\\n",
       "54   Now is the time to step up local, national, re...   \n",
       "105  @bobsyouruncleCP lmao , ain’t no thang but a c...   \n",
       "240  @MChagara And that's what scares me the most @...   \n",
       "\n",
       "                                            clean_text  polarity  \\\n",
       "54   Now time step local national regional global e...      -0.1   \n",
       "105                       lmao aint thang chicken wang       0.0   \n",
       "240                                      And 's scares       0.0   \n",
       "\n",
       "     subjectivity  favorite_count  retweet_count possibly_sensitive  ...  \\\n",
       "54       0.133333             0.0            0.0              False  ...   \n",
       "105      0.975000             1.0            0.0                NaN  ...   \n",
       "240      0.000000             1.0            1.0                NaN  ...   \n",
       "\n",
       "                              user_name        location  \\\n",
       "54   Environmental Compliance Institute  Nairobi, Kenya   \n",
       "105                            aqilah 🤍     cpt / sa 🇿🇦   \n",
       "240                      David Masereka         Kampala   \n",
       "\n",
       "                                           description followers_count  \\\n",
       "54   Influencing #policy, environmental #governance...             301   \n",
       "105  21 years of constantly being taken for a poes ...            3798   \n",
       "240  Loves nature and protecting it, better living ...              74   \n",
       "\n",
       "    friends_count listed_count  statuses_count  favourites_count  verified  \\\n",
       "54            580            1            1036              1104     False   \n",
       "105           367            3           43965              3633     False   \n",
       "240           199            0             585              3661     False   \n",
       "\n",
       "     timeline  \n",
       "54        pre  \n",
       "105    during  \n",
       "240      post  \n",
       "\n",
       "[3 rows x 23 columns]"
      ]
     },
     "execution_count": 9,
     "metadata": {},
     "output_type": "execute_result"
    }
   ],
   "source": [
    "totalDatanew.sample(3)"
   ]
  },
  {
   "cell_type": "markdown",
   "metadata": {},
   "source": [
    "## Save file as CSV"
   ]
  },
  {
   "cell_type": "code",
   "execution_count": 10,
   "metadata": {},
   "outputs": [],
   "source": [
    "totalDatanew.to_csv(\"totalDatanew_users_detail_timeline.csv\")"
   ]
  },
  {
   "cell_type": "markdown",
   "metadata": {},
   "source": [
    "## Handle Hashtags for each user and Create List for Tableau."
   ]
  },
  {
   "cell_type": "code",
   "execution_count": 11,
   "metadata": {},
   "outputs": [],
   "source": [
    "df=totalDatanew\n",
    "wordcloud=[]\n",
    "for x in range(16):\n",
    "  u='Col'+str(x)\n",
    "  df[u] = (np.where(df['hashtags'].str.contains(','),\n",
    "                  df['hashtags'].str.split(',').str[x],\n",
    "                  ''))\n",
    "  col_one_list = df[u].tolist()\n",
    "  wordcloud.extend(col_one_list)"
   ]
  },
  {
   "cell_type": "code",
   "execution_count": 12,
   "metadata": {},
   "outputs": [],
   "source": [
    "totalDatanew.to_csv(\"totalDatanew_users_detail_timeline_separated_hashytags.csv\")"
   ]
  },
  {
   "cell_type": "code",
   "execution_count": 13,
   "metadata": {},
   "outputs": [],
   "source": [
    "wordcloud = [x for x in wordcloud if x != '']\n",
    "hashtag_list = pd.DataFrame(wordcloud)\n",
    "hashtag_list.to_csv(\"only_hastagslist.csv\")"
   ]
  },
  {
   "cell_type": "code",
   "execution_count": null,
   "metadata": {},
   "outputs": [],
   "source": []
  }
 ],
 "metadata": {
  "kernelspec": {
   "display_name": "Python 3",
   "language": "python",
   "name": "python3"
  },
  "language_info": {
   "codemirror_mode": {
    "name": "ipython",
    "version": 3
   },
   "file_extension": ".py",
   "mimetype": "text/x-python",
   "name": "python",
   "nbconvert_exporter": "python",
   "pygments_lexer": "ipython3",
   "version": "3.7.6"
  }
 },
 "nbformat": 4,
 "nbformat_minor": 4
}
