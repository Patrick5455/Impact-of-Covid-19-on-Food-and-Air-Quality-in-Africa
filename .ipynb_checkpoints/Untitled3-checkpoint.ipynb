{
 "cells": [
  {
   "cell_type": "code",
   "execution_count": 36,
   "metadata": {},
   "outputs": [
    {
     "name": "stdout",
     "output_type": "stream",
     "text": [
      "The id is : 1250210000\n",
      "The screen name is : troop96lv\n",
      "\n",
      "The id is : 1037141442\n",
      "The screen name is : GeeksQuiz\n",
      "\n"
     ]
    }
   ],
   "source": [
    "# import the module \n",
    "import tweepy \n",
    "  \n",
    "# assign the values accordingly \n",
    "consumer_key = \"S6MHZsqQ5RMotPbH6OoleRtNs\" \n",
    "consumer_secret = \"Y9p9nbKokOVdY2PkZw7LcM6Qnw4aV6Pof0jYDL0KI3N8khtgmK\" \n",
    "access_token = \"1285289217615187970-seNop5XD4oiy1EmLUBZJSRlirfRAYm\" \n",
    "access_token_secret = \"I5W1LGD2t9EWygeF2DAS8Jl0XJ7lURtNoGdvGLUwS5lBu\" \n",
    "  \n",
    "# authorization of consumer key and consumer secret \n",
    "auth = tweepy.OAuthHandler(consumer_key, consumer_secret) \n",
    "  \n",
    "# set access to user's access key and access secret  \n",
    "auth.set_access_token(access_token, access_token_secret) \n",
    "  \n",
    "# calling the api  \n",
    "api = tweepy.API(auth) \n",
    "  \n",
    "# list of user_ids \n",
    "user_ids = [1302995916601, 1250210000, 1037141442] \n",
    "  \n",
    "# getting the users by user_ids \n",
    "users = api.lookup_users(user_ids) \n",
    "  \n",
    "# printing the user details \n",
    "for user in users: \n",
    "    print(\"The id is : \" + str(user.id)) \n",
    "    print(\"The screen name is : \" + user.screen_name, end = \"\\n\\n\") "
   ]
  },
  {
   "cell_type": "code",
   "execution_count": null,
   "metadata": {},
   "outputs": [],
   "source": []
  }
 ],
 "metadata": {
  "kernelspec": {
   "display_name": "Python 3",
   "language": "python",
   "name": "python3"
  },
  "language_info": {
   "codemirror_mode": {
    "name": "ipython",
    "version": 3
   },
   "file_extension": ".py",
   "mimetype": "text/x-python",
   "name": "python",
   "nbconvert_exporter": "python",
   "pygments_lexer": "ipython3",
   "version": "3.7.6"
  }
 },
 "nbformat": 4,
 "nbformat_minor": 4
}
