{
 "cells": [
  {
   "cell_type": "code",
   "execution_count": 1,
   "metadata": {
    "colab": {
     "base_uri": "https://localhost:8080/",
     "height": 34
    },
    "id": "c8VhuP5z8uNC",
    "outputId": "2a6e33c6-34fe-4de5-cd3a-b499482a2dd9"
   },
   "outputs": [
    {
     "name": "stdout",
     "output_type": "stream",
     "text": [
      "Collecting preprocessor\n",
      "  Using cached https://files.pythonhosted.org/packages/96/ad/d9f4ffb9bb97d1cb5bcb876b7932571d4dbaa3eff1701ad45d367f0ea27b/preprocessor-1.1.3.tar.gz\n",
      "Installing collected packages: preprocessor\n",
      "  Running setup.py install for preprocessor ... \u001b[?25lerror\n",
      "    Complete output from command /usr/bin/python2 -u -c \"import setuptools, tokenize;__file__='/tmp/pip-build-espLQB/preprocessor/setup.py';exec(compile(getattr(tokenize, 'open', open)(__file__).read().replace('\\r\\n', '\\n'), __file__, 'exec'))\" install --record /tmp/pip-Mt70x1-record/install-record.txt --single-version-externally-managed --compile:\n",
      "    running install\n",
      "    running build\n",
      "    running build_py\n",
      "    creating build\n",
      "    creating build/lib\n",
      "    creating build/lib/preprocessor\n",
      "    copying preprocessor/__init__.py -> build/lib/preprocessor\n",
      "    running egg_info\n",
      "    writing preprocessor.egg-info/PKG-INFO\n",
      "    writing top-level names to preprocessor.egg-info/top_level.txt\n",
      "    writing dependency_links to preprocessor.egg-info/dependency_links.txt\n",
      "    warning: manifest_maker: standard file '-c' not found\n",
      "    \n",
      "    reading manifest file 'preprocessor.egg-info/SOURCES.txt'\n",
      "    reading manifest template 'MANIFEST.in'\n",
      "    writing manifest file 'preprocessor.egg-info/SOURCES.txt'\n",
      "    running build_scripts\n",
      "    creating build/scripts-2.7\n",
      "    copying and adjusting scripts/preprocessor -> build/scripts-2.7\n",
      "    changing mode of build/scripts-2.7/preprocessor from 644 to 755\n",
      "    running install_lib\n",
      "    creating /usr/lib/python2.7/site-packages/preprocessor\n",
      "    error: could not create '/usr/lib/python2.7/site-packages/preprocessor': Permission denied\n",
      "    \n",
      "    ----------------------------------------\n",
      "\u001b[31mCommand \"/usr/bin/python2 -u -c \"import setuptools, tokenize;__file__='/tmp/pip-build-espLQB/preprocessor/setup.py';exec(compile(getattr(tokenize, 'open', open)(__file__).read().replace('\\r\\n', '\\n'), __file__, 'exec'))\" install --record /tmp/pip-Mt70x1-record/install-record.txt --single-version-externally-managed --compile\" failed with error code 1 in /tmp/pip-build-espLQB/preprocessor/\u001b[0m\n",
      "\u001b[33mYou are using pip version 8.1.2, however version 20.2.3 is available.\n",
      "You should consider upgrading via the 'pip install --upgrade pip' command.\u001b[0m\n",
      "\u001b[?25h"
     ]
    }
   ],
   "source": [
    "import tweepy\n",
    "import os\n",
    "import re\n",
    "import logging\n",
    "import nltk\n",
    "import string\n",
    "import datetime\n",
    "import pandas as pd\n",
    "import numpy as np\n",
    "\n",
    "!pip install preprocessor\n",
    "\n",
    "import preprocessor as p\n",
    "from tweepy import OAuthHandler\n",
    "from tweepy import API\n",
    "from tweepy import Cursor\n",
    "from nltk.corpus import stopwords\n",
    "from textblob import TextBlob\n",
    "\n",
    "\n"
   ]
  },
  {
   "cell_type": "code",
   "execution_count": 2,
   "metadata": {
    "colab": {
     "base_uri": "https://localhost:8080/",
     "height": 34
    },
    "id": "kyEaXoZ8_Lm-",
    "outputId": "c1038634-7e01-46d6-b4db-c5cd73ac86e3"
   },
   "outputs": [
    {
     "name": "stdout",
     "output_type": "stream",
     "text": [
      "Collecting preprocessor\n",
      "  Using cached https://files.pythonhosted.org/packages/96/ad/d9f4ffb9bb97d1cb5bcb876b7932571d4dbaa3eff1701ad45d367f0ea27b/preprocessor-1.1.3.tar.gz\n",
      "Installing collected packages: preprocessor\n",
      "  Running setup.py install for preprocessor ... \u001b[?25lerror\n",
      "    Complete output from command /usr/bin/python2 -u -c \"import setuptools, tokenize;__file__='/tmp/pip-build-Rs3OIS/preprocessor/setup.py';exec(compile(getattr(tokenize, 'open', open)(__file__).read().replace('\\r\\n', '\\n'), __file__, 'exec'))\" install --record /tmp/pip-aJTqZx-record/install-record.txt --single-version-externally-managed --compile:\n",
      "    running install\n",
      "    running build\n",
      "    running build_py\n",
      "    creating build\n",
      "    creating build/lib\n",
      "    creating build/lib/preprocessor\n",
      "    copying preprocessor/__init__.py -> build/lib/preprocessor\n",
      "    running egg_info\n",
      "    writing preprocessor.egg-info/PKG-INFO\n",
      "    writing top-level names to preprocessor.egg-info/top_level.txt\n",
      "    writing dependency_links to preprocessor.egg-info/dependency_links.txt\n",
      "    warning: manifest_maker: standard file '-c' not found\n",
      "    \n",
      "    reading manifest file 'preprocessor.egg-info/SOURCES.txt'\n",
      "    reading manifest template 'MANIFEST.in'\n",
      "    writing manifest file 'preprocessor.egg-info/SOURCES.txt'\n",
      "    running build_scripts\n",
      "    creating build/scripts-2.7\n",
      "    copying and adjusting scripts/preprocessor -> build/scripts-2.7\n",
      "    changing mode of build/scripts-2.7/preprocessor from 644 to 755\n",
      "    running install_lib\n",
      "    creating /usr/lib/python2.7/site-packages/preprocessor\n",
      "    error: could not create '/usr/lib/python2.7/site-packages/preprocessor': Permission denied\n",
      "    \n",
      "    ----------------------------------------\n",
      "\u001b[31mCommand \"/usr/bin/python2 -u -c \"import setuptools, tokenize;__file__='/tmp/pip-build-Rs3OIS/preprocessor/setup.py';exec(compile(getattr(tokenize, 'open', open)(__file__).read().replace('\\r\\n', '\\n'), __file__, 'exec'))\" install --record /tmp/pip-aJTqZx-record/install-record.txt --single-version-externally-managed --compile\" failed with error code 1 in /tmp/pip-build-Rs3OIS/preprocessor/\u001b[0m\n",
      "\u001b[33mYou are using pip version 8.1.2, however version 20.2.3 is available.\n",
      "You should consider upgrading via the 'pip install --upgrade pip' command.\u001b[0m\n",
      "\u001b[?25h"
     ]
    }
   ],
   "source": [
    "from requests import get\n",
    "from requests.exceptions import RequestException\n",
    "from contextlib import closing\n",
    "# from bs4 import BeautifulSoup\n",
    "import pandas as pd\n",
    "import os, sys\n",
    "\n",
    "#import fire\n",
    "\n",
    "import sys\n",
    "import os\n",
    "import json\n",
    "import matplotlib.pyplot as plt\n",
    "import re\n",
    "import string\n",
    "\n",
    "import matplotlib.dates as mdates\n",
    "import seaborn as sns\n",
    "\n",
    "# to view all columns\n",
    "pd.set_option(\"display.max.columns\", None)\n",
    "\n",
    "import tweepy\n",
    "from tweepy.streaming import StreamListener\n",
    "from tweepy import OAuthHandler\n",
    "from tweepy import Stream\n",
    "from tweepy import API\n",
    "from tweepy import Cursor\n",
    "from datetime import datetime, date, time, timedelta\n",
    "from collections import Counter\n",
    "import sys\n",
    "\n",
    "!pip install preprocessor\n",
    "import preprocessor as p"
   ]
  },
  {
   "cell_type": "code",
   "execution_count": 3,
   "metadata": {
    "id": "ZmJkAjon_TzO"
   },
   "outputs": [],
   "source": [
    " #Variables that contains the user credentials to access Twitter API \n",
    "consumer_key = ''\n",
    "consumer_secret = ''\n",
    "access_token = ''\n",
    "access_token_secret =''\n",
    "sleep_on_rate_limit=False\n",
    "\n",
    "auth = OAuthHandler(consumer_key, consumer_secret)\n",
    "auth.set_access_token(access_token, access_token_secret)\n",
    "auth_api = API(auth, wait_on_rate_limit=True)\n"
   ]
  },
  {
   "cell_type": "code",
   "execution_count": null,
   "metadata": {
    "colab": {
     "base_uri": "https://localhost:8080/",
     "height": 34
    },
    "id": "YpFt7tq1g4WD",
    "outputId": "8482ffbf-02de-49df-bcf0-2269e9fbbf69",
    "scrolled": false
   },
   "outputs": [],
   "source": [
    "hashtags=[\"#BreatheLife\",\"#AirPollution\",\"#airquality\",\"#cleanair\",\"#airpollution\",\"#pollution\",\"#hvac\",\"#airpurifier\" ,\"#indoorairquality\",\"#air\",\"#climatechange\",\"#indoorair\",\"#environment\" ,\"#airconditioning\",\"#heating\" , \"#freshair\", \"#airfilter\",\"#ventilation\",\"#airconditioner\",\"#airqualityindex\", \"#pm2_5 \",\"#emissions\",\"#natureishealing\",\"#nature\",\"#pollutionfree\" ,\"#wearethevirus\",'AirPollution', 'Environment', 'Ozone Layer', 'Global Warming', 'Climate Change', 'Greenhouse Gases', 'Trees', 'Carbon',\n",
    "        'Aerosals', 'Air', 'Save the planet', 'Factories', 'Hygroscopicity', 'Inversion', 'Sulfur', 'AIRS', 'ecosystem', 'Hydrochlorofluorocarbon',\n",
    "        'hydrocarbon', 'TAC', 'zero', 'pollutant', '#air', '#pollution', '#airpollution', '#coal', '#particles', '#smog', '#cleanair',\n",
    "       '#airqualityindex', '#climatechange', '#airquality', '#globalwarming', '#airpollutionawareness', '#airpollutioncontrol',\n",
    "       '#CleanEnergy', '#saveearth']\n",
    "\n",
    "geocodes=[\"6.48937,3.37709,500km\",\"-33.99268,18.46654,500km\",\"-26.22081,28.03239,500km\",\"5.58445,-0.20514,500km\",\"-1.27467,36.81178,500km\",\"-4.04549,39.66644,500km\",\"-1.95360,30.09186,500km\",\"0.32400,32.58662,500km\"]\n",
    "\n",
    "names = []\n",
    "\n",
    "\n",
    "names = []\n",
    "for hashtag in hashtags:\n",
    "    for geocode in geocodes:\n",
    "        tweets = tweepy.Cursor(auth_api.search, q = hashtag ,geocode=geocode).items(12500)\n",
    "        users = []\n",
    "        for status in tweets:\n",
    "            name = status.user.screen_name\n",
    "            t=status.text\n",
    "            users.append(name)\n",
    "        names.append(users)\n",
    "screen_names = [y for x in names for y in x]\n",
    "screen_names"
   ]
  },
  {
   "cell_type": "code",
   "execution_count": 12,
   "metadata": {
    "id": "s14jW2W6jwGT"
   },
   "outputs": [],
   "source": [
    "screen_names\n",
    "df = pd.DataFrame(screen_names)\n",
    "df.to_csv(\"handles_new.csv\")"
   ]
  },
  {
   "cell_type": "code",
   "execution_count": null,
   "metadata": {},
   "outputs": [],
   "source": []
  }
 ],
 "metadata": {
  "colab": {
   "name": "Users_twitter_scraping",
   "provenance": []
  },
  "kernelspec": {
   "display_name": "Python 3",
   "language": "python",
   "name": "python3"
  },
  "language_info": {
   "codemirror_mode": {
    "name": "ipython",
    "version": 3
   },
   "file_extension": ".py",
   "mimetype": "text/x-python",
   "name": "python",
   "nbconvert_exporter": "python",
   "pygments_lexer": "ipython3",
   "version": "3.8.3"
  }
 },
 "nbformat": 4,
 "nbformat_minor": 1
}