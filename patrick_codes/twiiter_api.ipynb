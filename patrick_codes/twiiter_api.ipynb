{
 "cells": [
  {
   "cell_type": "markdown",
   "metadata": {},
   "source": [
    "## This Notebook would be used to Fetch Twitter Data via Twitter API"
   ]
  },
  {
   "cell_type": "markdown",
   "metadata": {},
   "source": [
    "> import libraries"
   ]
  },
  {
   "cell_type": "code",
   "execution_count": 3,
   "metadata": {},
   "outputs": [],
   "source": [
    "import pandas as pd\n",
    "import tweepy\n",
    "from tweepy import OAuthHandler\n",
    "from tweepy import API  \n",
    "from tweepy import Cursor\n",
    "from datetime import datetime, date, time, timedelta\n",
    "from collections import Counter\n",
    "import os, sys\n",
    "import csv"
   ]
  },
  {
   "cell_type": "markdown",
   "metadata": {},
   "source": [
    "> Load dotenv to expose api keys to the application"
   ]
  },
  {
   "cell_type": "code",
   "execution_count": 4,
   "metadata": {},
   "outputs": [
    {
     "data": {
      "text/plain": [
       "True"
      ]
     },
     "execution_count": 4,
     "metadata": {},
     "output_type": "execute_result"
    }
   ],
   "source": [
    "from dotenv import load_dotenv\n",
    "load_dotenv('../.env')"
   ]
  },
  {
   "cell_type": "code",
   "execution_count": 5,
   "metadata": {},
   "outputs": [
    {
     "name": "stdout",
     "output_type": "stream",
     "text": [
      "API_KEY API_SECRET_KEY ACCESS_TOKEN ACCESS_TOKEN_SECRET\n"
     ]
    }
   ],
   "source": [
    "API_KEY=\"API_KEY\"\n",
    "API_SECRET_KEY=\"API_SECRET_KEY\"\n",
    "ACCESS_TOKEN=\"ACCESS_TOKEN\"\n",
    "ACCESS_TOKEN_SECRET=\"ACCESS_TOKEN_SECRET\"\n",
    "print(API_KEY, API_SECRET_KEY, ACCESS_TOKEN, ACCESS_TOKEN_SECRET)"
   ]
  },
  {
   "cell_type": "code",
   "execution_count": 6,
   "metadata": {},
   "outputs": [],
   "source": [
    "API_KEY = os.environ.get(API_KEY)\n",
    "API_SECRET_KEY = os.getenv(API_SECRET_KEY)\n",
    "ACCESS_TOKEN = os.getenv(ACCESS_TOKEN)\n",
    "ACCESS_TOKEN_SECRET=os.getenv(ACCESS_TOKEN_SECRET)"
   ]
  },
  {
   "cell_type": "code",
   "execution_count": 7,
   "metadata": {},
   "outputs": [],
   "source": [
    "auth = OAuthHandler(API_KEY, API_SECRET_KEY)\n",
    "auth.set_access_token(ACCESS_TOKEN, ACCESS_TOKEN_SECRET)\n",
    "api = tweepy.API(auth, wait_on_rate_limit=True)\n",
    "auth_api = API(auth)"
   ]
  },
  {
   "cell_type": "markdown",
   "metadata": {},
   "source": [
    "> Testing Api"
   ]
  },
  {
   "cell_type": "code",
   "execution_count": 88,
   "metadata": {},
   "outputs": [
    {
     "name": "stdout",
     "output_type": "stream",
     "text": [
      "RT @ProfJonFairburn: 8th October is Clean Air Day - I will be one of the speakers at 12.30 onwards with community advocates, charities and…\n",
      "https://t.co/lGDmdnpoue\n",
      "\n",
      "What a great article.  This is why we LOVE what we do, brining plants to cities to support #pollinators #biodiversity, #airquality #forage #health\n"
     ]
    }
   ],
   "source": [
    "search_words = \"airquality\"\n",
    "date_since=\"2020-03-03\"  \n",
    "# Collect tweets\n",
    "tweets = tweepy.Cursor(api.search,\n",
    "              q=search_words, tweet_mode='extended',\n",
    "              lang=\"en\", \n",
    "              since=date_since).items(2)\n",
    "# Iterate and print tweets\n",
    "for tweet in tweets:\n",
    "    print(tweet.full_text)\n",
    "   # print(tweet._json['full_text'])"
   ]
  },
  {
   "cell_type": "code",
   "execution_count": 113,
   "metadata": {},
   "outputs": [],
   "source": [
    "# tweets = Cursor(api.user_timeline, id='WestAfricaAQ',\n",
    "#                tweet_mode='extended',\n",
    "#               lang=\"en\", pages=1).items()\n",
    "# for tweet in tweets:\n",
    "#     print(tweet.full_text) "
   ]
  },
  {
   "cell_type": "markdown",
   "metadata": {},
   "source": [
    "> TWITTER API ALL SET UP!"
   ]
  },
  {
   "cell_type": "markdown",
   "metadata": {},
   "source": [
    "### Data Extraction"
   ]
  },
  {
   "cell_type": "code",
   "execution_count": 2,
   "metadata": {},
   "outputs": [],
   "source": [
    "hashtags= ['#airquality ','#cleanair','#airpollution' ,'#pollution',\n",
    "           '#hvac', '#airpurifier', '#indoorairquality','#health',\n",
    "           '#covid', '#air', '#climatechange',' #indoorair',\n",
    "           '#environment','#airconditioning', '#coronavirus', '#heating',\n",
    "           '#mold', '#freshair', '#safety', '#ac', '#airfilter', '#allergies',\n",
    "           '#hvacservice', '#ventilation','#wellness','#delhipollution',\n",
    "           '#airconditioner','#airqualityindex','#bhfyp',\n",
    "           'particulate matter', 'fine particulate matter','#pm2_5',\n",
    "           '#emissions', '#natureishealing','#nature','#pollutionfree',\n",
    "           '#wearethevirus']\n",
    "\n",
    "accounts = ['@GhanaAQ','@asap_eastafrica', '@WestAfricaAQ']"
   ]
  },
  {
   "cell_type": "code",
   "execution_count": 31,
   "metadata": {},
   "outputs": [],
   "source": [
    "class GetCursor():\n",
    "    \n",
    "    import tweepy\n",
    "    from tweepy import OAuthHandler\n",
    "    from tweepy import API  \n",
    "    from tweepy import Cursor\n",
    "    from dotenv import load_dotenv\n",
    "    import os, sys\n",
    "\n",
    "    \n",
    "    def __init__(self,env_file=None):\n",
    "        if env_file is None:\n",
    "            self.env = load_dotenv('../.env')\n",
    "        else:\n",
    "            self.env = load_dotenv(env_file)\n",
    "            \n",
    "    \n",
    "    def __repr__(self):\n",
    "        \n",
    "        return \"Twitter API Auth Object\"\n",
    "            \n",
    "    \n",
    "    def get_auth(self):\n",
    "        \n",
    "        API_KEY=\"API_KEY\"\n",
    "        API_SECRET_KEY=\"API_SECRET_KEY\"\n",
    "        ACCESS_TOKEN=\"ACCESS_TOKEN\"\n",
    "        ACCESS_TOKEN_SECRET=\"ACCESS_TOKEN_SECRET\"\n",
    "        \n",
    "        self.__API_KEY = os.environ.get(API_KEY)\n",
    "        self.__API_SECRET_KEY = os.getenv(API_SECRET_KEY)\n",
    "        self.__ACCESS_TOKEN = os.getenv(ACCESS_TOKEN)\n",
    "        self.__ACCESS_TOKEN_SECRET=os.getenv(ACCESS_TOKEN_SECRET)\n",
    "        \n",
    "        try:\n",
    "            self.__auth = OAuthHandler(API_KEY, API_SECRET_KEY)\n",
    "            self.__auth.set_access_token(ACCESS_TOKEN, ACCESS_TOKEN_SECRET)\n",
    "            self.api = API(auth, wait_on_rate_limit=True)\n",
    "            self.auth_api = API(auth, retry_count=5,retry_delay=5,\n",
    "                               timeout=60, \n",
    "                                wait_on_rate_limit=True,wait_on_rate_limit_notify=True)\n",
    "            \n",
    "        except tweepy.TweepError as e:\n",
    "            print(e.reason())\n",
    "                    "
   ]
  },
  {
   "cell_type": "code",
   "execution_count": 115,
   "metadata": {},
   "outputs": [],
   "source": [
    "class GetTweets(GetCursor):\n",
    "    \n",
    "    import tweepy\n",
    "    from tweepy import Cursor\n",
    "    from datetime import datetime, date, time, timedelta\n",
    "\n",
    "    \n",
    "    def __init__(self,env_file=None):\n",
    "        super().__init__(env_file)\n",
    "        self.get_auth()\n",
    "        print('Authentication successful')\n",
    "\n",
    "    def __repr__(self):\n",
    "        return \"Get tweets from Hashtags -> # & Users -> @\"\n",
    "    \n",
    "    #helper functions\n",
    "    def limit_handled(cursor):\n",
    "        while True:\n",
    "            try:\n",
    "                yield cursor.next()\n",
    "            except tweepy.RateLimitError:\n",
    "                time.sleep(15 * 60) #default 15mins\n",
    "                \n",
    "    \n",
    "    def check_is_bot(self, handle)-> bool:\n",
    "        \n",
    "        self.is_bot = False\n",
    "        account_age_days = 0\n",
    "        \n",
    "        item = self.auth_api.get_user(handle)\n",
    "        account_created_date = item.created_at\n",
    "        delta = datetime.utcnow() - account_created_date\n",
    "        account_age_days = delta.days\n",
    "        if account_age_days < 180: #(6 months)\n",
    "            is_bot=True\n",
    "            \n",
    "        return self.is_bot\n",
    "        \n",
    "            \n",
    "    \n",
    "    \n",
    "    def get_handle_tweets(self, handles:list=[]):\n",
    "        self.handles = handles\n",
    "        if len(self.handles) > 0: \n",
    "            for handle in self.handles:\n",
    "                print(f\"collecting tweets for -> {handle}\")\n",
    "                user = []\n",
    "                print(\"Getting data for \" + handle) \n",
    "                # this helps avoid Tweepy errors like suspended users or user not found errors\n",
    "                try: \n",
    "                    item = self.auth_api.get_user(handle)\n",
    "                except tweepy.TweepError as e:\n",
    "                    continue\n",
    "                    \n",
    "                if self.check_is_bot(handle):\n",
    "                    continue\n",
    "                else:\n",
    "                    handle_props = limit_handled(\n",
    "                        Cursor(api.user_timeline, id='WestAfricaAQ',\n",
    "                                                        tweet_mode='extended',\n",
    "                                                        lang=\"en\").items())\n",
    "                    \n",
    "                user[handle]=[]\n",
    "                for prop in handle_props:\n",
    "                    handle_props.append(prop.full_text)\n",
    "            \n",
    "        return handle_props\n",
    "               \n",
    "    \n",
    "    def get_tag_tweets(self, tags:list=[], geocode=None, until_date=None):\n",
    "        \n",
    "        \"\"\"\n",
    "        until_date should be formatted as  YYYY-MM-DD\n",
    "        \"\"\"\n",
    "        #if geocode is not None\n",
    "        self.tags = tags \n",
    "        collected_tag_tweets = {}\n",
    "        for tag in self.tags:\n",
    "            print(f\"collecting tweets for -> {tag}\")\n",
    "            current_tag_tweets = limit_handled(Cursor(api.search, q=tag, \n",
    "                                                      geocode=geocode,\n",
    "                                                      until=until_date,\n",
    "                                                      truncated=False,lang=\"en\",\n",
    "                                                      tweet_mode='extended',\n",
    "                                                      since=date_since).items())#.items(20))\n",
    "            \n",
    "            collected_tag_tweets[tag]=[]\n",
    "            for tweet in current_tag_tweets:\n",
    "                collected_tags_tweets.append(tweet.full_text)\n",
    "            \n",
    "        return collected_tags_tweets\n",
    "    \n",
    "    \n",
    "    def get_geocode_tag_tweets(self, geocode):\n",
    "        pass\n",
    "    \n",
    "    \n",
    "def main():\n",
    "    return \"wip\"\n",
    "    \n",
    "if __name__== main():\n",
    "    pass"
   ]
  },
  {
   "cell_type": "code",
   "execution_count": null,
   "metadata": {},
   "outputs": [],
   "source": []
  },
  {
   "cell_type": "code",
   "execution_count": null,
   "metadata": {},
   "outputs": [],
   "source": []
  }
 ],
 "metadata": {
  "kernelspec": {
   "display_name": "Python 3",
   "language": "python",
   "name": "python3"
  },
  "language_info": {
   "codemirror_mode": {
    "name": "ipython",
    "version": 3
   },
   "file_extension": ".py",
   "mimetype": "text/x-python",
   "name": "python",
   "nbconvert_exporter": "python",
   "pygments_lexer": "ipython3",
   "version": "3.6.9"
  }
 },
 "nbformat": 4,
 "nbformat_minor": 4
}
